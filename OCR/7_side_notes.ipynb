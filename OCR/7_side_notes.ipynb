{
 "cells": [
  {
   "cell_type": "markdown",
   "id": "5c646b81",
   "metadata": {},
   "source": [
    " Morphological operations (dilate, erode, open, close)"
   ]
  },
  {
   "cell_type": "markdown",
   "id": "1564722a",
   "metadata": {},
   "source": [
    "#  side Notes\n"
   ]
  },
  {
   "cell_type": "code",
   "execution_count": 1,
   "id": "bda8b8f5",
   "metadata": {},
   "outputs": [
    {
     "name": "stdout",
     "output_type": "stream",
     "text": [
      "Feel. 5, 8.\n",
      "Drov. 27, 1.\n",
      "\n",
      "Ps. 33, 20.\n",
      "\n",
      "cf. Lue. 9,62.\n",
      "\n",
      "Lue. 17,21.\n",
      "Ps. 33, 10.\n",
      "\n",
      "Apoc. 92, 12.\n",
      "6, 10.\n",
      "\n",
      "\n"
     ]
    }
   ],
   "source": [
    "import pytesseract\n",
    "import cv2\n",
    "\n",
    "\n",
    "image = cv2.imread('data/sample_mgh.jpg')\n",
    "base_image = image.copy()\n",
    "\n",
    "gray = cv2.cvtColor(image, cv2.COLOR_BGR2GRAY)\n",
    "blur = cv2.GaussianBlur(gray, (7,7), 0)\n",
    "thresh = cv2.threshold(blur, 0, 255, cv2.THRESH_BINARY_INV + cv2.THRESH_OTSU)[1]\n",
    "\n",
    "# Create rectangular structuring element and dilate\n",
    "kernel = cv2.getStructuringElement(cv2.MORPH_RECT, (3,25))\n",
    "dilate = cv2.dilate(thresh, kernel, iterations=1)\n",
    "\n",
    "# Find contours and draw rectangle\n",
    "cnts = cv2.findContours(dilate, cv2.RETR_EXTERNAL, cv2.CHAIN_APPROX_SIMPLE)\n",
    "cnts = cnts[0] if len(cnts) == 2 else cnts[1]\n",
    "cnts = sorted(cnts, key=lambda x: cv2.boundingRect(x)[1])\n",
    "main_text = \"\"\n",
    "for c in cnts:\n",
    "    x,y,w,h = cv2.boundingRect(c)\n",
    "    if h > 200 and w > 250:\n",
    "        roi = base_image[y:y+h, 0:x]\n",
    "#         cv2.rectangle(image, (0, y), (x, 0 + h+20), (36,255,12), 2)\n",
    "        \n",
    "        constant= cv2.copyMakeBorder(roi.copy(),30,30,30,30,cv2.BORDER_CONSTANT,value=[255,255,255])\n",
    "        ocr_result = pytesseract.image_to_string(constant)\n",
    "        cv2.imwrite(\"data/sample_mgh_side_notes_output.png\", roi)\n",
    "        \n",
    "        print (ocr_result)\n",
    "#         print (ocr_result)\n",
    "# cv2.imwrite(\"temp/output.png\", image)"
   ]
  }
 ],
 "metadata": {
  "kernelspec": {
   "display_name": "Python 3",
   "language": "python",
   "name": "python3"
  },
  "language_info": {
   "codemirror_mode": {
    "name": "ipython",
    "version": 3
   },
   "file_extension": ".py",
   "mimetype": "text/x-python",
   "name": "python",
   "nbconvert_exporter": "python",
   "pygments_lexer": "ipython3",
   "version": "3.11.9"
  }
 },
 "nbformat": 4,
 "nbformat_minor": 5
}
