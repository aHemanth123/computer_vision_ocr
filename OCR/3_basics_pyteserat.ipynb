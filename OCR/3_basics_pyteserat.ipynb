{
 "cells": [
  {
   "cell_type": "code",
   "execution_count": 2,
   "id": "1ff89bff",
   "metadata": {},
   "outputs": [],
   "source": [
    "import pytesseract\n",
    "from PIL import Image\n"
   ]
  },
  {
   "cell_type": "code",
   "execution_count": 6,
   "id": "6d38958d",
   "metadata": {},
   "outputs": [],
   "source": [
    "img_file =\"data/1.jpg\"\n",
    "no_noise =\"data/1_no_noise.jpg\""
   ]
  },
  {
   "cell_type": "code",
   "execution_count": 3,
   "id": "bee05202",
   "metadata": {},
   "outputs": [],
   "source": [
    "img = Image.open(img_file)"
   ]
  },
  {
   "cell_type": "code",
   "execution_count": null,
   "id": "1ade3d37",
   "metadata": {},
   "outputs": [
    {
     "name": "stdout",
     "output_type": "stream",
     "text": [
      "Jn addition, 1 have atvended and delivered naper\n",
      "national conferences in the United Kingdom, the\n",
      "Canada, Australia, New Zealand, Papua Kew Guinea\n",
      "bfrica, Kalevi, India and Angola, I have also, a\n",
      "delivered lectures and conducted seninars at the\n",
      "(Departnent of Biological énthropology, Deparne\n",
      "upon-lyne (Department of Hunan Genetics) and Dur\n",
      "in England, of Cave Town end the Witvatersrand a\n",
      "Universitet (in Afrikeans) in South Africa, the\n",
      "(Devertnent of Guten Blology, Desartnent of Anth\n",
      "\n"
     ]
    }
   ],
   "source": [
    "ocr_result  = pytesseract.image_to_string(img)\n",
    "print(ocr_result)   "
   ]
  },
  {
   "cell_type": "markdown",
   "id": "0296be92",
   "metadata": {},
   "source": [
    "# we get wrong answers because the  img is not preprocessed "
   ]
  },
  {
   "cell_type": "code",
   "execution_count": 7,
   "id": "1738c7dd",
   "metadata": {},
   "outputs": [
    {
     "name": "stdout",
     "output_type": "stream",
     "text": [
      "Jn addition, I have attended and delivered geyer\n",
      "national conferences in the United Kingdom, the\n",
      "Canada, iustralia, hew Zealand, Papua Kew Guinea\n",
      "Africa, Halewi, India and Angola, T have also, a\n",
      "delivered lectures and conducted seainars at the\n",
      "(Derartuent of Biological Anthropology, Departne\n",
      "upotelyne (Department of Huan Genetics) and Dur\n",
      "in England, of Cave Town and the Wtvatersrand a\n",
      "Universiteit (in dfrikeans) in South Afeica, the\n",
      "(Devartnent of Gusen Biology, Departnent of ant\n",
      "\n"
     ]
    }
   ],
   "source": [
    "img_no_noise = Image.open(no_noise)\n",
    "ocr_result = pytesseract.image_to_string(img_no_noise)\n",
    "print(ocr_result)"
   ]
  }
 ],
 "metadata": {
  "kernelspec": {
   "display_name": "Python 3",
   "language": "python",
   "name": "python3"
  },
  "language_info": {
   "codemirror_mode": {
    "name": "ipython",
    "version": 3
   },
   "file_extension": ".py",
   "mimetype": "text/x-python",
   "name": "python",
   "nbconvert_exporter": "python",
   "pygments_lexer": "ipython3",
   "version": "3.11.9"
  }
 },
 "nbformat": 4,
 "nbformat_minor": 5
}
