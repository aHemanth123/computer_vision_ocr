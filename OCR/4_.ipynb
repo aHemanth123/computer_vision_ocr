{
 "cells": [
  {
   "cell_type": "code",
   "execution_count": 1,
   "id": "49ab950e",
   "metadata": {},
   "outputs": [],
   "source": [
    "import pytesseract \n",
    "from PIL import Image\n",
    "\n"
   ]
  },
  {
   "cell_type": "code",
   "execution_count": 2,
   "id": "5bc5fb4a",
   "metadata": {},
   "outputs": [],
   "source": [
    "image_file = \"data/index_02.JPG\"\n",
    "img = Image.open(image_file)"
   ]
  },
  {
   "cell_type": "code",
   "execution_count": 3,
   "id": "689786e1",
   "metadata": {},
   "outputs": [
    {
     "name": "stdout",
     "output_type": "stream",
     "text": [
      "INDEX NOMINUM.\n",
      "\n",
      "SCRIPSIT KAROLUS HAMPE.\n",
      "\n",
      "Maior numerus indicat paginam, minor lineam.\n",
      "\n",
      "A.v. E.\n",
      "\n",
      "Aaron 38, 20. 123, 18. 168, 6. 203, 38. |\n",
      "\n",
      "Abacue propheta 36, 5. 319,29. 373, 23.\n",
      "Abagarus rex Edessenorum 382, 13.\n",
      "Abdenago 585, 3.\n",
      "\n",
      "Abel 26, 11.\n",
      "\n",
      "Abigail 606, 6.\n",
      "\n",
      "Abraham 26,18. 124,18. 133, 23, 2:\n",
      "264. 302, 13. 303, 13. 320, 40. 328, 1.\n",
      "496, 22.\n",
      "\n",
      "Absalon 102, 5.\n",
      "\n",
      "Acgfredi v. Ecgfridus.\n",
      "\n",
      "Achab rex 504, 1.\n",
      "\n",
      "Achaz rex 504,1.\n",
      "\n",
      "Achiel 606, 19.\n",
      "\n",
      "Achilon 496, 26.\n",
      "\n",
      "Adal-, Adel-, Adhel-, Aedel-, Aedel-,\n",
      "‘Aedil-, Aed\n",
      "Athel-, Athil-, Aethel-, Aethil-\n",
      "Ethel-.\n",
      "\n",
      "Aedelbaldusabb.S. Petri Wiremuthen-\n",
      "sis et S. Pauli Girwensis 110, 28.\n",
      "\n",
      "Aedilberctus, Aedilberthus ep. Ha-\n",
      "gulstadensis, antea ep. Candidae\n",
      "casae sive Witernensis 27,43. 72,16.\n",
      "\n",
      "Adalbertus, Aedilberctus sive Magus,\n",
      "discipulus et capellanus Arnonis\n",
      "archiep. Salisburg., postea_abb.\n",
      "Ferrariensis 254, 1. 320, 41. 322, 19.\n",
      "416. 418, 14. 422, 10.\n",
      "\n",
      "Adalpertabb. [Tegernseensis ?]497,2.\n",
      "\n",
      "Adalbertus presb. monasterii 8. Mar-\n",
      "tini Turonensis 399, 3.\n",
      "\n",
      "Aedilburga, Edilburga, cognom. Euge-\n",
      "nia, abbatissa Flaedanbyrgensis,\n",
      "filia Offae regis Merciorum 78, 1.\n",
      "148, 32. 149, 33 [?]7 458.\n",
      "\n",
      "Aethelfleda uxor Aethilredi regis\n",
      "Northanhumbrorum, filia Offae\n",
      "regis Merciorum 149, 14. 150, 4.\n",
      "\n",
      "Adalgarius ep. [Trecensis?] 510, 10.\n",
      "\n",
      "Adelgisa filia Arichis ducis Bene-\n",
      "ventani 506, 27.\n",
      "\n",
      "Adalgisus fil. Desiderii regis Lango-\n",
      "bardorum 503, 45.\n",
      "\n",
      "Episrotae IV.\n",
      "\n",
      "il-, Edel-, Edil-, Athal-, |\n",
      "\n",
      "Aethelhardus, Aethilhardus, Athel-\n",
      "hardus, Athilhardus, Aedelhardus,\n",
      "Aedelhardus, Aedilhardus, Aedil-\n",
      "hardus, Ethelardus, Edelardus\n",
      "archiep. Cantuariensis Dorovernen-\n",
      "sis ecclesiae metropolitanus 46, 9.\n",
      "49,9, 128,2. 145, 31, 147,5. 188. 189.\n",
      "192, 24. 193, 5 [?]. 374376, v9. 377, 4.\n",
      "412. 4141 (2 448. 449 [2]. 450 [2].\n",
      "\n",
      "| 451,8([?]. 479. 480. 614, 10. 21. 36.\n",
      "\n",
      "| Adalhardus , cognom. Antonius, abb.\n",
      "Corbeiae veteris, fil. Bernhardi\n",
      "eo Caroli Magni 34, 25. 290.\n",
      "\n",
      "1. 299. 300. 364. 365, 381. 382.\n",
      "509. 566,16; frater: Bernarius;\n",
      "fratres 381,25; soror: Gundrada.\n",
      "\n",
      "Adalmondus, Aethelmodus ep. Scire-\n",
      "\n",
      "| burnensis 29, 9.\n",
      "\n",
      "Adelperga uxor Arichis ducis Bene-\n",
      "\n",
      "| ventani, filia Desiderii regis Lango-\n",
      "\n",
      "bardorum 506, 5; liberi: Romual-\n",
      "dus, Grimoaldus, Adelgisa.\n",
      "\n",
      "| Adalpert v, Adalbertus.\n",
      "\n",
      "Aedelredus, Aedilredus, Aethelredus,\n",
      "Aethilredus, Hedilredus rex Nor-\n",
      "thanhumbrorum, fil. Aedelwaldi\n",
      "Moll regis 33,15. 35,8. 41, 19.\n",
      "49,16. 71, 20. 146,2. 147, 10. 150, 6.\n",
      "151, 35. 171,17. 377,31; mater:\n",
      "Aedilthyda; uxor: Aethelfleda;\n",
      "famulus: Torchmundus.\n",
      "\n",
      "Adhelricus diaconus, discipulus et\n",
      "capellanus Arnonis archiep. Salis-\n",
      "burg., postea abbas Ferrariensis,\n",
      "archiepiscopus Senonensis, 418, 14.\n",
      "422, 10.\n",
      "\n",
      "Aedilthyda, Edilthruda uxor Aethel-\n",
      "waldi Moll regis Northanhumbro-\n",
      "rum, postea abbatissa 120,12. 151,17.\n",
      "152,31 (hs filius: Aethelredus rex\n",
      "Northanhumbrorum.\n",
      "\n",
      "Edildryda uxor Ecgfridi regis Nor-\n",
      "thanhumbrorum, postea abbatissa\n",
      "(t 679) 417,15.\n",
      "\n",
      "Aedelwaldus, Aethelwoldus Moll rex\n",
      "Northanhumbrorum 33, 16; uxor:\n",
      "Aedilthyda; filius; Aethelredus,\n",
      "\n",
      "Adalwinus ep. Reginensis 421, 24.\n",
      "422, 21. 424,3.\n",
      "\n",
      "Aethiluuinus episcopus 28, 2.\n",
      "\n",
      "Adam 124, 201,1. 226, 7. 264, 21.\n",
      "879, 29. 466, 36—468, 25. 591, 34.\n",
      "Adam abb. monasterii Gemeticensis\n",
      "\n",
      "579.\n",
      "\n",
      "Adaula abbatissa Anglica 112, 4.\n",
      "\n",
      "Adoredus, Hathoredus ep. Hwiccio-\n",
      "rum [Wigorniensis] 29, 10.\n",
      "\n",
      "Adrianus v. Hadrianus.\n",
      "\n",
      "Adriaticum mare 324, 41.\n",
      "\n",
      "| Aedel-, Aedil-, v. Adal-.\n",
      "\n",
      "Aegesippus [i. e. Hegesippus] 501, 11.\n",
      "\n",
      "Aegil v. Eigil.\n",
      "\n",
      "Aegyptus, Egyptus 123,19. 554, 17;\n",
      "Aegyptii, Aegyptiaci 231. 232, 17.\n",
      "467, 36. 567,6. 571,33; Egyptiacae\n",
      "divitiae 470, 22; Aegyptiacae tene-\n",
      "brae 232, 3; Acgypit rex: Pharao;\n",
      "Aegyptiacascola, Aegyptiaci pueri\n",
      "v. Carolus I imperator.\n",
      "\n",
      "Aeine, Aesne, Esne ep. Herefordensis\n",
      "29, 6.\n",
      "\n",
      "Aelberhtus archiep. Eboracensis, ma-\n",
      "\n",
      "‘ister Alevini abbatis (162, 24]. 167,s.\n",
      "171,19]. [177,5]. [224,20]. [239, 28].\n",
      "332, 28]. [377,32]. (378, 31]. [429,27\n",
      "\n",
      "Aelfvaldus, Aelfwaldus rex Nor-\n",
      "thanhymbrorum, [Transhymbranae\n",
      "gentis] 20, 27. 28, 11. 43,8. 377, 31.\n",
      "\n",
      "Aelim v. Alim.\n",
      "\n",
      "Aeneades 39, 21; v. Virgilius.\n",
      "\n",
      "Aesculapius, Scolapius 397, 25.\n",
      "\n",
      "Aesne v. Aeine,\n",
      "\n",
      "Aethel-, Aethil- v. Adal-.\n",
      "\n",
      "Aethiopia 478, 5.\n",
      "\n",
      "Africa 124, 16; Afer: Melchiades\n",
      "papa; Africanum concilium 526,33.\n",
      "\n",
      "Africanus, sc. Scipio Afr. 575, 36.\n",
      "\n",
      "Agar 584, 3s.\n",
      "\n",
      "Agareni, Aggareni 32, 19. 601, 21;\n",
      "v, Saraceni.\n",
      "\n",
      "Agathensis synodus 396,\n",
      "\n",
      "Aginus ep. Constantiensis 117, 32.\n",
      "\n",
      "129, 19.\n",
      "\n",
      "8\n",
      "\n"
     ]
    }
   ],
   "source": [
    "ocr_result = pytesseract.image_to_string(img)\n",
    "print(ocr_result)"
   ]
  },
  {
   "cell_type": "markdown",
   "id": "9ba5f27c",
   "metadata": {},
   "source": [
    "# now with opencv"
   ]
  },
  {
   "cell_type": "code",
   "execution_count": 4,
   "id": "836e7e5c",
   "metadata": {},
   "outputs": [],
   "source": [
    "import pytesseract\n",
    "import cv2"
   ]
  },
  {
   "cell_type": "code",
   "execution_count": 5,
   "id": "369da1af",
   "metadata": {},
   "outputs": [],
   "source": [
    "image = cv2.imread('data/index_02.JPG')"
   ]
  },
  {
   "cell_type": "markdown",
   "id": "5d03ebd6",
   "metadata": {},
   "source": [
    "# preprocessing the image "
   ]
  },
  {
   "cell_type": "code",
   "execution_count": 6,
   "id": "68ec2247",
   "metadata": {},
   "outputs": [],
   "source": [
    "gray = cv2.cvtColor(image, cv2.COLOR_BGR2GRAY)"
   ]
  },
  {
   "cell_type": "code",
   "execution_count": 7,
   "id": "c08586cc",
   "metadata": {},
   "outputs": [
    {
     "data": {
      "text/plain": [
       "True"
      ]
     },
     "execution_count": 7,
     "metadata": {},
     "output_type": "execute_result"
    }
   ],
   "source": [
    "cv2.imwrite(\"data/index_gray.png\",gray)"
   ]
  },
  {
   "cell_type": "code",
   "execution_count": null,
   "id": "daabe296",
   "metadata": {},
   "outputs": [],
   "source": [
    "# blur  --> why ? to find structure \n",
    "\n",
    "blur = cv2.GaussianBlur(gray,(7,7),0)"
   ]
  },
  {
   "cell_type": "code",
   "execution_count": null,
   "id": "359202e2",
   "metadata": {},
   "outputs": [
    {
     "data": {
      "text/plain": [
       "True"
      ]
     },
     "execution_count": 9,
     "metadata": {},
     "output_type": "execute_result"
    }
   ],
   "source": [
    "cv2.imwrite(\"data/index_blur.png\",blur )\n",
    "\n"
   ]
  },
  {
   "cell_type": "code",
   "execution_count": 10,
   "id": "07b1ee5d",
   "metadata": {},
   "outputs": [],
   "source": [
    "# threshold \n",
    "\n",
    "thresh = cv2.threshold(blur, 0, 255 , cv2.THRESH_BINARY_INV + cv2.THRESH_OTSU)[1]"
   ]
  },
  {
   "cell_type": "code",
   "execution_count": 11,
   "id": "01421d51",
   "metadata": {},
   "outputs": [
    {
     "data": {
      "text/plain": [
       "True"
      ]
     },
     "execution_count": 11,
     "metadata": {},
     "output_type": "execute_result"
    }
   ],
   "source": [
    "cv2.imwrite(\"data/index_thresh.png\",thresh)"
   ]
  },
  {
   "cell_type": "code",
   "execution_count": null,
   "id": "83a4edb8",
   "metadata": {},
   "outputs": [
    {
     "data": {
      "text/plain": [
       "True"
      ]
     },
     "execution_count": 21,
     "metadata": {},
     "output_type": "execute_result"
    }
   ],
   "source": [
    "#kernel\n",
    "\n",
    "kernel = cv2.getStructuringElement(cv2.MORPH_RECT,(3,13))   # <-----  Here Kernel size imp  --->  for (3,13 )\n",
    "cv2.imwrite(\"data/index_kernel.png\",kernel)"
   ]
  },
  {
   "cell_type": "code",
   "execution_count": 22,
   "id": "15b05fb5",
   "metadata": {},
   "outputs": [
    {
     "data": {
      "text/plain": [
       "True"
      ]
     },
     "execution_count": 22,
     "metadata": {},
     "output_type": "execute_result"
    }
   ],
   "source": [
    "# dilate   # for all this finds --> to find structure \n",
    "\n",
    "dilate = cv2.dilate(thresh,kernel , iterations = 1 )\n",
    "cv2.imwrite('data/index_dilate.png',dilate)"
   ]
  },
  {
   "cell_type": "markdown",
   "id": "42aca1fd",
   "metadata": {},
   "source": [
    "# creating contours"
   ]
  },
  {
   "cell_type": "code",
   "execution_count": 23,
   "id": "6edd0e8e",
   "metadata": {},
   "outputs": [],
   "source": [
    "cnts = cv2.findContours(dilate,  cv2.RETR_EXTERNAL ,cv2.CHAIN_APPROX_SIMPLE)\n",
    "\n",
    "cnts =cnts[0] if len(cnts) == 2 else cnts[1]\n",
    "\n",
    "# sorting \n",
    "cnts = sorted(cnts, key = lambda x: cv2.boundingRect(x)[0])"
   ]
  },
  {
   "cell_type": "code",
   "execution_count": 24,
   "id": "b0d3bcf8",
   "metadata": {},
   "outputs": [
    {
     "data": {
      "text/plain": [
       "True"
      ]
     },
     "execution_count": 24,
     "metadata": {},
     "output_type": "execute_result"
    }
   ],
   "source": [
    "for c in cnts:\n",
    "    x, y, w, h = cv2.boundingRect(c) # c --> contours \n",
    "\n",
    "    # if h > 200 and w > 20:\n",
    "    #     roi = image[y:y+h, x:x+h]\n",
    "    #     cv2.imwrite(\"data/index_roi.png\", roi)\n",
    "\n",
    "    cv2.rectangle(image, (x, y), (x+w, y+h), (36, 255, 12), 2)\n",
    "\n",
    "cv2.imwrite(\"data/index_bbox_new_1.png\", image)"
   ]
  },
  {
   "cell_type": "code",
   "execution_count": 33,
   "id": "aa433051",
   "metadata": {},
   "outputs": [
    {
     "data": {
      "text/plain": [
       "True"
      ]
     },
     "execution_count": 33,
     "metadata": {},
     "output_type": "execute_result"
    }
   ],
   "source": [
    "for c in cnts:\n",
    "    x, y, w, h = cv2.boundingRect(c) # c --> contours \n",
    "\n",
    "    if h >  700 and w > 230:\n",
    "        # roi = image[y:y+h, x:x+h]\n",
    "        # cv2.imwrite(\"data/index_roi.png\", roi)\n",
    "        cv2.rectangle(image, (x, y), (x+w, y+h), (36, 255, 12), 2)\n",
    "\n",
    "cv2.imwrite(\"data/index_bbox_new_2.png\", image)"
   ]
  },
  {
   "cell_type": "code",
   "execution_count": 48,
   "id": "c532fe11",
   "metadata": {},
   "outputs": [
    {
     "data": {
      "text/plain": [
       "True"
      ]
     },
     "execution_count": 48,
     "metadata": {},
     "output_type": "execute_result"
    }
   ],
   "source": [
    "for c in cnts:\n",
    "    x, y, w, h = cv2.boundingRect(c) # c --> contours \n",
    "    \n",
    "    area = cv2.contourArea(c)\n",
    "\n",
    "\n",
    "    if h >  500 and w > 200 and area > 1000000:\n",
    "        roi = image[y:y+h, x:x+w]\n",
    "        cv2.imwrite(\"data/index_new_roi.png\", roi)\n",
    "        \n",
    "        cv2.rectangle(image, (x, y), (x+w, y+h), (36, 255, 12), 2)\n",
    "\n",
    "cv2.imwrite(\"data/index_bbox_new_final.png\", image)"
   ]
  },
  {
   "cell_type": "code",
   "execution_count": null,
   "id": "e4700d34",
   "metadata": {},
   "outputs": [
    {
     "name": "stdout",
     "output_type": "stream",
     "text": [
      "Checking contour: w=334, h=1069, area=223008.5\n",
      "Checking contour: w=30, h=24, area=639.0\n",
      "Checking contour: w=117, h=105, area=5010.0\n",
      "Checking contour: w=16, h=23, area=287.5\n",
      "Checking contour: w=15, h=23, area=267.0\n",
      "Checking contour: w=14, h=24, area=236.0\n",
      "Checking contour: w=14, h=24, area=251.5\n",
      "Checking contour: w=16, h=23, area=277.0\n",
      "Checking contour: w=13, h=24, area=232.5\n",
      "Checking contour: w=39, h=50, area=1584.5\n",
      "Checking contour: w=23, h=58, area=978.0\n",
      "Checking contour: w=46, h=33, area=1063.0\n",
      "Checking contour: w=49, h=60, area=2119.5\n",
      "Checking contour: w=22, h=44, area=792.5\n",
      "Checking contour: w=63, h=79, area=3055.5\n",
      "Checking contour: w=65, h=33, area=1467.5\n",
      "Checking contour: w=43, h=51, area=1630.0\n",
      "Checking contour: w=57, h=29, area=1315.5\n",
      "Checking contour: w=49, h=59, area=2352.5\n",
      "Checking contour: w=140, h=36, area=4353.5\n",
      "Checking contour: w=23, h=25, area=448.0\n",
      "Checking contour: w=21, h=44, area=587.5\n",
      "Checking contour: w=20, h=24, area=397.0\n",
      "Checking contour: w=21, h=24, area=402.5\n",
      "Checking contour: w=7, h=612, area=2250.5\n",
      "Checking contour: w=5, h=155, area=535.0\n",
      "Checking contour: w=5, h=126, area=392.0\n",
      "Checking contour: w=3, h=16, area=30.0\n",
      "Checking contour: w=3, h=15, area=28.0\n",
      "Checking contour: w=4, h=34, area=98.5\n",
      "Checking contour: w=43, h=58, area=2168.0\n",
      "Checking contour: w=336, h=1040, area=293835.0\n",
      "Checking contour: w=78, h=25, area=1675.0\n",
      "Checking contour: w=50, h=59, area=2200.0\n",
      "Checking contour: w=63, h=29, area=1466.0\n",
      "Checking contour: w=148, h=36, area=4518.5\n",
      "Checking contour: w=3, h=14, area=26.0\n",
      "Checking contour: w=149, h=62, area=7130.5\n",
      "Checking contour: w=91, h=16, area=1310.0\n",
      "Checking contour: w=91, h=15, area=1259.0\n",
      "Checking contour: w=87, h=33, area=1951.5\n",
      "Checking contour: w=6, h=18, area=83.5\n",
      "Checking contour: w=28, h=29, area=574.5\n",
      "Checking contour: w=55, h=28, area=1176.5\n",
      "Checking contour: w=119, h=36, area=3430.5\n",
      "Checking contour: w=27, h=59, area=1091.0\n",
      "Checking contour: w=46, h=59, area=2081.5\n",
      "Checking contour: w=22, h=24, area=442.0\n",
      "Checking contour: w=65, h=29, area=1421.0\n",
      "Checking contour: w=7, h=1035, area=3949.0\n",
      "Checking contour: w=337, h=1040, area=206387.5\n",
      "Checking contour: w=120, h=61, area=5130.0\n",
      "Checking contour: w=29, h=29, area=618.0\n",
      "Checking contour: w=24, h=24, area=460.0\n",
      "Checking contour: w=145, h=54, area=5754.5\n",
      "Checking contour: w=140, h=59, area=5641.0\n",
      "Checking contour: w=15, h=23, area=270.0\n",
      "Checking contour: w=15, h=25, area=264.0\n",
      "Checking contour: w=16, h=23, area=289.5\n",
      "Checking contour: w=158, h=77, area=8352.0\n",
      "Checking contour: w=29, h=29, area=609.5\n",
      "Checking contour: w=57, h=29, area=1203.0\n",
      "Checking contour: w=24, h=29, area=565.0\n",
      "Checking contour: w=28, h=31, area=671.0\n",
      "Checking contour: w=21, h=24, area=418.0\n",
      "Checking contour: w=5, h=16, area=59.0\n",
      "Checking contour: w=22, h=24, area=434.0\n",
      "Checking contour: w=39, h=31, area=914.5\n",
      "Checking contour: w=9, h=28, area=203.0\n",
      "Checking contour: w=38, h=31, area=889.5\n",
      "Checking contour: w=26, h=32, area=594.0\n",
      "Checking contour: w=14, h=24, area=245.5\n",
      "Checking contour: w=17, h=26, area=371.0\n",
      "Checking contour: w=22, h=26, area=466.5\n",
      "Checking contour: w=22, h=24, area=427.0\n",
      "Checking contour: w=21, h=25, area=406.0\n",
      "Checking contour: w=7, h=25, area=132.5\n"
     ]
    }
   ],
   "source": [
    "results = []\n",
    "\n",
    "for c in cnts:\n",
    "    x, y, w, h = cv2.boundingRect(c)\n",
    "    area = cv2.contourArea(c)\n",
    "    print(f\"Checking contour: w={w}, h={h}, area={area}\")\n",
    "\n",
    "    if h > 100 and w > 100 and area > 10000:\n",
    "        roi = image[y:y+h, x:x+w]\n",
    "\n",
    "        # gray = cv2.cvtColor(roi, cv2.COLOR_BGR2GRAY)\n",
    "        # thresh = cv2.threshold(gray, 0, 255, cv2.THRESH_BINARY + cv2.THRESH_OTSU)[1]\n",
    "\n",
    "\n",
    "        ocr_result = pytesseract.image_to_string(thresh)\n",
    "\n",
    "        ocr_result = ocr_result.split(\"\\n\")\n",
    "        for item in ocr_result: \n",
    "            results.append(item)\n"
   ]
  },
  {
   "cell_type": "code",
   "execution_count": 64,
   "id": "7f74036d",
   "metadata": {},
   "outputs": [
    {
     "name": "stdout",
     "output_type": "stream",
     "text": [
      "['Aethiluuinus episcopus 28, 2.', '', 'Adam 124, 201,1. 226,7. 264, iz', '', '379, 29, 466, 3e—468, vs, 591, 34.', '', 'Adam abb. monasterii Gemeticensis', '', '579,', '', 'Adaula abbatissa Anglica 112, f]', '', 'Adoredus, Hathoredus ep. Hwiccio-', '', 'rum [Wigorniensis) 29, 10.', '', 'Adrianus v. Hadrianus.', '', 'Adriaticum mare 324, 41.', '', 'Aedel-, Aedil-, v. Adal-.', '', 'Aegesippus [i.] Hegesippus) pot je', '', 'Aegil v. Higil.', '', 'Aegyptus, Egyptus 123,19. 564, 17;', '‘Aegyptii, Aegyptiaci 231, 232, 17,', '', '67, 36. 567,6. 571,33; Egyptiacae', '', 'divitiae 470,22; Aegyptiacas tene-', 'brae 232, 3; Acaypit rex: Pharao;', 'Aegyptiacascola, Aegyptiaci pueri', 'v, Carolus J imperator.', '', 'eine, Aemne, Eenefp] Herefordensis', '', 'Aelberhtua archiep. Eboracensis, ma-', 'ister Alcvini abbatis (162, 24]. 167,.', 'VTL, 19). [17,5]. (224,20). f 39, 98].', '332, 2]. [377,39]. (378, 31]. 429, a7', 'Aelfvaldus, Aelfwaldus rex Nor-', 'thanhymbrorum, [Transhymbranae', 'gentis} 20, 27. 28, u. 43,3. 377, 31,', '', 'Aelim: »v. Alim.', 'Aeneades 39,)2', 'Aesculapius,', 'lAesne v. Aci', '', 'Aethel-, Sect Pasa]', '', 'ethiopia 478,', '', 'Africa, 124, 16; Alfer: Melchiades', 'papa; Africanum|concilium 526,33,', 'Africanus, fe]Scipip Afr. 575, 36.', '', 'Agar 584, 38,', 'A, i, A i [b2Jfol]feor |aiki', 'geeni, Aggareni [polfe]| corp', '', 'Agathensis pynodus 39', 'Aginus ep] Conatantiensi', '', '129, 19.', '', '', 'Aethiluuinus episcopus 28, 2.', '', 'Adam 124, 201,1. 226,7. 264, iz', '', '379, 29, 466, 3e—468, vs, 591, 34.', '', 'Adam abb. monasterii Gemeticensis', '', '579,', '', 'Adaula abbatissa Anglica 112, f]', '', 'Adoredus, Hathoredus ep. Hwiccio-', '', 'rum [Wigorniensis) 29, 10.', '', 'Adrianus v. Hadrianus.', '', 'Adriaticum mare 324, 41.', '', 'Aedel-, Aedil-, v. Adal-.', '', 'Aegesippus [i.] Hegesippus) pot je', '', 'Aegil v. Higil.', '', 'Aegyptus, Egyptus 123,19. 564, 17;', '‘Aegyptii, Aegyptiaci 231, 232, 17,', '', '67, 36. 567,6. 571,33; Egyptiacae', '', 'divitiae 470,22; Aegyptiacas tene-', 'brae 232, 3; Acaypit rex: Pharao;', 'Aegyptiacascola, Aegyptiaci pueri', 'v, Carolus J imperator.', '', 'eine, Aemne, Eenefp] Herefordensis', '', 'Aelberhtua archiep. Eboracensis, ma-', 'ister Alcvini abbatis (162, 24]. 167,.', 'VTL, 19). [17,5]. (224,20). f 39, 98].', '332, 2]. [377,39]. (378, 31]. 429, a7', 'Aelfvaldus, Aelfwaldus rex Nor-', 'thanhymbrorum, [Transhymbranae', 'gentis} 20, 27. 28, u. 43,3. 377, 31,', '', 'Aelim: »v. Alim.', 'Aeneades 39,)2', 'Aesculapius,', 'lAesne v. Aci', '', 'Aethel-, Sect Pasa]', '', 'ethiopia 478,', '', 'Africa, 124, 16; Alfer: Melchiades', 'papa; Africanum|concilium 526,33,', 'Africanus, fe]Scipip Afr. 575, 36.', '', 'Agar 584, 38,', 'A, i, A i [b2Jfol]feor |aiki', 'geeni, Aggareni [polfe]| corp', '', 'Agathensis pynodus 39', 'Aginus ep] Conatantiensi', '', '129, 19.', '', '', 'Aethiluuinus episcopus 28, 2.', '', 'Adam 124, 201,1. 226,7. 264, iz', '', '379, 29, 466, 3e—468, vs, 591, 34.', '', 'Adam abb. monasterii Gemeticensis', '', '579,', '', 'Adaula abbatissa Anglica 112, f]', '', 'Adoredus, Hathoredus ep. Hwiccio-', '', 'rum [Wigorniensis) 29, 10.', '', 'Adrianus v. Hadrianus.', '', 'Adriaticum mare 324, 41.', '', 'Aedel-, Aedil-, v. Adal-.', '', 'Aegesippus [i.] Hegesippus) pot je', '', 'Aegil v. Higil.', '', 'Aegyptus, Egyptus 123,19. 564, 17;', '‘Aegyptii, Aegyptiaci 231, 232, 17,', '', '67, 36. 567,6. 571,33; Egyptiacae', '', 'divitiae 470,22; Aegyptiacas tene-', 'brae 232, 3; Acaypit rex: Pharao;', 'Aegyptiacascola, Aegyptiaci pueri', 'v, Carolus J imperator.', '', 'eine, Aemne, Eenefp] Herefordensis', '', 'Aelberhtua archiep. Eboracensis, ma-', 'ister Alcvini abbatis (162, 24]. 167,.', 'VTL, 19). [17,5]. (224,20). f 39, 98].', '332, 2]. [377,39]. (378, 31]. 429, a7', 'Aelfvaldus, Aelfwaldus rex Nor-', 'thanhymbrorum, [Transhymbranae', 'gentis} 20, 27. 28, u. 43,3. 377, 31,', '', 'Aelim: »v. Alim.', 'Aeneades 39,)2', 'Aesculapius,', 'lAesne v. Aci', '', 'Aethel-, Sect Pasa]', '', 'ethiopia 478,', '', 'Africa, 124, 16; Alfer: Melchiades', 'papa; Africanum|concilium 526,33,', 'Africanus, fe]Scipip Afr. 575, 36.', '', 'Agar 584, 38,', 'A, i, A i [b2Jfol]feor |aiki', 'geeni, Aggareni [polfe]| corp', '', 'Agathensis pynodus 39', 'Aginus ep] Conatantiensi', '', '129, 19.', '', '']\n"
     ]
    }
   ],
   "source": [
    "print(results)"
   ]
  },
  {
   "cell_type": "code",
   "execution_count": 75,
   "id": "4a29fc21",
   "metadata": {},
   "outputs": [],
   "source": [
    "entities = []\n",
    "for item in  results:\n",
    "    item = item.strip()\n",
    "    item = item.split(\" \")[0]\n",
    "    if(len(item) >1):\n",
    "        if item[0].isupper() and item[0] ==\"A\" and  \"-\" not in item     :\n",
    "         item = item.split(\".\")[0].replace(\",\" ,\"\").replace(\";\",\"\")  # eliminating   .\n",
    "        #  print(item)\n",
    "         entities.append(item)"
   ]
  },
  {
   "cell_type": "code",
   "execution_count": 76,
   "id": "6bc0345a",
   "metadata": {},
   "outputs": [
    {
     "name": "stdout",
     "output_type": "stream",
     "text": [
      "['Aethiluuinus', 'Adam', 'Adam', 'Adaula', 'Adoredus', 'Adrianus', 'Adriaticum', 'Aegesippus', 'Aegil', 'Aegyptus', 'Aegyptiacascola', 'Aelberhtua', 'Aelfvaldus', 'Aelim:', 'Aeneades', 'Aesculapius', 'Africa', 'Africanus', 'Agar', 'A', 'Agathensis', 'Aginus', 'Aethiluuinus', 'Adam', 'Adam', 'Adaula', 'Adoredus', 'Adrianus', 'Adriaticum', 'Aegesippus', 'Aegil', 'Aegyptus', 'Aegyptiacascola', 'Aelberhtua', 'Aelfvaldus', 'Aelim:', 'Aeneades', 'Aesculapius', 'Africa', 'Africanus', 'Agar', 'A', 'Agathensis', 'Aginus', 'Aethiluuinus', 'Adam', 'Adam', 'Adaula', 'Adoredus', 'Adrianus', 'Adriaticum', 'Aegesippus', 'Aegil', 'Aegyptus', 'Aegyptiacascola', 'Aelberhtua', 'Aelfvaldus', 'Aelim:', 'Aeneades', 'Aesculapius', 'Africa', 'Africanus', 'Agar', 'A', 'Agathensis', 'Aginus']\n"
     ]
    }
   ],
   "source": [
    "print(entities)"
   ]
  },
  {
   "cell_type": "code",
   "execution_count": null,
   "id": "d1d4b7f4",
   "metadata": {},
   "outputs": [
    {
     "name": "stdout",
     "output_type": "stream",
     "text": [
      "['A', 'Adam', 'Adaula', 'Adoredus', 'Adrianus', 'Adriaticum', 'Aegesippus', 'Aegil', 'Aegyptiacascola', 'Aegyptus', 'Aelberhtua', 'Aelfvaldus', 'Aelim:', 'Aeneades', 'Aesculapius', 'Aethiluuinus', 'Africa', 'Africanus', 'Agar', 'Agathensis', 'Aginus']\n"
     ]
    }
   ],
   "source": [
    "entities =list(set(entities)) \n",
    "entities.sort()\n",
    "print(entities)"
   ]
  },
  {
   "cell_type": "markdown",
   "id": "38711b31",
   "metadata": {},
   "source": [
    "# optional code"
   ]
  },
  {
   "cell_type": "code",
   "execution_count": 80,
   "id": "08a176ed",
   "metadata": {},
   "outputs": [
    {
     "name": "stdout",
     "output_type": "stream",
     "text": [
      "[]\n",
      "['']\n",
      "['iz']\n",
      "['']\n",
      "['vs']\n",
      "['']\n",
      "['Adam abb. monasterii Gemeticensis']\n",
      "['']\n",
      "['']\n",
      "['f]']\n",
      "['']\n",
      "['Adoredus', 'Hathoredus ep. Hwiccio-']\n",
      "['']\n",
      "[]\n",
      "['']\n",
      "['Adrianus v. Hadrianus.']\n",
      "['']\n",
      "[]\n",
      "['']\n",
      "['Aedel-', 'Aedil-', 'v. Adal-.']\n",
      "['']\n",
      "['Aegesippus [i.] Hegesippus) pot je']\n",
      "['']\n",
      "['Aegil v. Higil.']\n",
      "['']\n",
      "['Aegyptus']\n",
      "['‘Aegyptii', '']\n",
      "['']\n",
      "[]\n",
      "['']\n",
      "[]\n",
      "[]\n",
      "['Aegyptiacascola', 'Aegyptiaci pueri']\n",
      "['v', 'Carolus J imperator.']\n",
      "['']\n",
      "['eine', 'Aemne', 'Eenefp] Herefordensis']\n",
      "['']\n",
      "['Aelberhtua archiep. Eboracensis', 'ma-']\n",
      "['.']\n",
      "['VTL']\n",
      "[]\n",
      "['Aelfvaldus', 'Aelfwaldus rex Nor-']\n",
      "['thanhymbrorum', '[Transhymbranae']\n",
      "['']\n",
      "['']\n",
      "['Aelim: »v. Alim.']\n",
      "[]\n",
      "['Aesculapius', '']\n",
      "['lAesne v. Aci']\n",
      "['']\n",
      "['Aethel-', 'Sect Pasa]']\n",
      "['']\n",
      "['']\n",
      "['']\n",
      "['Africa']\n",
      "['']\n",
      "['Africanus']\n",
      "['']\n",
      "['']\n",
      "['A', 'i']\n",
      "['geeni', 'Aggareni [polfe]| corp']\n",
      "['']\n",
      "[]\n",
      "['Aginus ep] Conatantiensi']\n",
      "['']\n",
      "[]\n",
      "['']\n",
      "['']\n",
      "[]\n",
      "['']\n",
      "['iz']\n",
      "['']\n",
      "['vs']\n",
      "['']\n",
      "['Adam abb. monasterii Gemeticensis']\n",
      "['']\n",
      "['']\n",
      "['f]']\n",
      "['']\n",
      "['Adoredus', 'Hathoredus ep. Hwiccio-']\n",
      "['']\n",
      "[]\n",
      "['']\n",
      "['Adrianus v. Hadrianus.']\n",
      "['']\n",
      "[]\n",
      "['']\n",
      "['Aedel-', 'Aedil-', 'v. Adal-.']\n",
      "['']\n",
      "['Aegesippus [i.] Hegesippus) pot je']\n",
      "['']\n",
      "['Aegil v. Higil.']\n",
      "['']\n",
      "['Aegyptus']\n",
      "['‘Aegyptii', '']\n",
      "['']\n",
      "[]\n",
      "['']\n",
      "[]\n",
      "[]\n",
      "['Aegyptiacascola', 'Aegyptiaci pueri']\n",
      "['v', 'Carolus J imperator.']\n",
      "['']\n",
      "['eine', 'Aemne', 'Eenefp] Herefordensis']\n",
      "['']\n",
      "['Aelberhtua archiep. Eboracensis', 'ma-']\n",
      "['.']\n",
      "['VTL']\n",
      "[]\n",
      "['Aelfvaldus', 'Aelfwaldus rex Nor-']\n",
      "['thanhymbrorum', '[Transhymbranae']\n",
      "['']\n",
      "['']\n",
      "['Aelim: »v. Alim.']\n",
      "[]\n",
      "['Aesculapius', '']\n",
      "['lAesne v. Aci']\n",
      "['']\n",
      "['Aethel-', 'Sect Pasa]']\n",
      "['']\n",
      "['']\n",
      "['']\n",
      "['Africa']\n",
      "['']\n",
      "['Africanus']\n",
      "['']\n",
      "['']\n",
      "['A', 'i']\n",
      "['geeni', 'Aggareni [polfe]| corp']\n",
      "['']\n",
      "[]\n",
      "['Aginus ep] Conatantiensi']\n",
      "['']\n",
      "[]\n",
      "['']\n",
      "['']\n",
      "[]\n",
      "['']\n",
      "['iz']\n",
      "['']\n",
      "['vs']\n",
      "['']\n",
      "['Adam abb. monasterii Gemeticensis']\n",
      "['']\n",
      "['']\n",
      "['f]']\n",
      "['']\n",
      "['Adoredus', 'Hathoredus ep. Hwiccio-']\n",
      "['']\n",
      "[]\n",
      "['']\n",
      "['Adrianus v. Hadrianus.']\n",
      "['']\n",
      "[]\n",
      "['']\n",
      "['Aedel-', 'Aedil-', 'v. Adal-.']\n",
      "['']\n",
      "['Aegesippus [i.] Hegesippus) pot je']\n",
      "['']\n",
      "['Aegil v. Higil.']\n",
      "['']\n",
      "['Aegyptus']\n",
      "['‘Aegyptii', '']\n",
      "['']\n",
      "[]\n",
      "['']\n",
      "[]\n",
      "[]\n",
      "['Aegyptiacascola', 'Aegyptiaci pueri']\n",
      "['v', 'Carolus J imperator.']\n",
      "['']\n",
      "['eine', 'Aemne', 'Eenefp] Herefordensis']\n",
      "['']\n",
      "['Aelberhtua archiep. Eboracensis', 'ma-']\n",
      "['.']\n",
      "['VTL']\n",
      "[]\n",
      "['Aelfvaldus', 'Aelfwaldus rex Nor-']\n",
      "['thanhymbrorum', '[Transhymbranae']\n",
      "['']\n",
      "['']\n",
      "['Aelim: »v. Alim.']\n",
      "[]\n",
      "['Aesculapius', '']\n",
      "['lAesne v. Aci']\n",
      "['']\n",
      "['Aethel-', 'Sect Pasa]']\n",
      "['']\n",
      "['']\n",
      "['']\n",
      "['Africa']\n",
      "['']\n",
      "['Africanus']\n",
      "['']\n",
      "['']\n",
      "['A', 'i']\n",
      "['geeni', 'Aggareni [polfe]| corp']\n",
      "['']\n",
      "[]\n",
      "['Aginus ep] Conatantiensi']\n",
      "['']\n",
      "[]\n",
      "['']\n",
      "['']\n"
     ]
    }
   ],
   "source": [
    "lines =  results\n",
    "\n",
    "for line in lines:\n",
    "    temp_line = line.replace(\",\", \"\")\n",
    "    if temp_line.isdigit():\n",
    "        pass\n",
    "    else:\n",
    "        components = []\n",
    "        segs = line.split(\",\")\n",
    "        for seg in segs:\n",
    "            seg = seg.strip()\n",
    "            num = False\n",
    "            for character in seg:\n",
    "                if character.isdigit():\n",
    "                    num = True\n",
    "            if num == False:\n",
    "                components.append(seg)\n",
    "        print (components)\n",
    "        "
   ]
  }
 ],
 "metadata": {
  "kernelspec": {
   "display_name": "Python 3",
   "language": "python",
   "name": "python3"
  },
  "language_info": {
   "codemirror_mode": {
    "name": "ipython",
    "version": 3
   },
   "file_extension": ".py",
   "mimetype": "text/x-python",
   "name": "python",
   "nbconvert_exporter": "python",
   "pygments_lexer": "ipython3",
   "version": "3.11.9"
  }
 },
 "nbformat": 4,
 "nbformat_minor": 5
}
