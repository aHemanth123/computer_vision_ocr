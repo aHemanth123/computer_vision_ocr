{
 "cells": [
  {
   "cell_type": "markdown",
   "id": "59ef1a8b",
   "metadata": {},
   "source": [
    "# extracting footer "
   ]
  },
  {
   "cell_type": "code",
   "execution_count": null,
   "id": "f9bef5dd",
   "metadata": {},
   "outputs": [],
   "source": [
    " # finding contours with  2 lines below "
   ]
  },
  {
   "cell_type": "markdown",
   "id": "fcc773d1",
   "metadata": {},
   "source": [
    "#  footer bounding"
   ]
  },
  {
   "cell_type": "code",
   "execution_count": 8,
   "id": "24ca7de1",
   "metadata": {},
   "outputs": [
    {
     "data": {
      "text/plain": [
       "True"
      ]
     },
     "execution_count": 8,
     "metadata": {},
     "output_type": "execute_result"
    }
   ],
   "source": [
    "import pytesseract\n",
    "import cv2\n",
    "\n",
    "# Load image\n",
    "image = cv2.imread('data/sample_mgh.jpg')\n",
    "base_image = image.copy()\n",
    "\n",
    "# Convert to grayscale and preprocess\n",
    "gray = cv2.cvtColor(image, cv2.COLOR_BGR2GRAY)\n",
    "blur = cv2.GaussianBlur(gray, (7, 7), 0)\n",
    "thresh = cv2.threshold(blur, 0, 255, cv2.THRESH_BINARY_INV + cv2.THRESH_OTSU)[1]\n",
    "\n",
    "# Morphological transformation to detect horizontal lines\n",
    "kernel = cv2.getStructuringElement(cv2.MORPH_RECT, (50, 10))  # Wider horizontal emphasis\n",
    "dilate = cv2.dilate(thresh, kernel, iterations=1)\n",
    "\n",
    "# Find contours\n",
    "cnts = cv2.findContours(dilate, cv2.RETR_EXTERNAL, cv2.CHAIN_APPROX_SIMPLE)\n",
    "cnts = cnts[0] if len(cnts) == 2 else cnts[1]\n",
    "cnts = sorted(cnts, key=lambda x: cv2.boundingRect(x)[1])  # Sort top to bottom\n",
    "\n",
    "# Draw bounding boxes on original image\n",
    "for c in cnts:\n",
    "    x, y, w, h = cv2.boundingRect(c)\n",
    "    if h < 20 and w > 250:  # Filter: thin and wide regions\n",
    "        cv2.rectangle(image, (x, y), (x + w, y + h), (36, 255, 12), 2)\n",
    "\n",
    "# Save the entire image with all bounding boxes drawn\n",
    "cv2.imwrite(\"data/sample_mgh_output.png\", image)\n"
   ]
  },
  {
   "cell_type": "markdown",
   "id": "03a5cc0c",
   "metadata": {},
   "source": [
    "# extracting  only main data not footer"
   ]
  },
  {
   "cell_type": "code",
   "execution_count": null,
   "id": "e0834af5",
   "metadata": {},
   "outputs": [
    {
     "data": {
      "text/plain": [
       "True"
      ]
     },
     "execution_count": 2,
     "metadata": {},
     "output_type": "execute_result"
    }
   ],
   "source": [
    "import pytesseract\n",
    "import cv2\n",
    "\n",
    "\n",
    "image = cv2.imread('data/sample_mgh.jpg')\n",
    "im_h, im_w, im_d = image.shape\n",
    "base_image = image.copy()\n",
    "\n",
    "gray = cv2.cvtColor(image, cv2.COLOR_BGR2GRAY)\n",
    "blur = cv2.GaussianBlur(gray, (7,7), 0)\n",
    "thresh = cv2.threshold(blur, 0, 255, cv2.THRESH_BINARY_INV + cv2.THRESH_OTSU)[1]\n",
    "\n",
    "# Create rectangular structuring element and dilate\n",
    "kernel = cv2.getStructuringElement(cv2.MORPH_RECT, (50,10))\n",
    "dilate = cv2.dilate(thresh, kernel, iterations=1)\n",
    "\n",
    "# Find contours and draw rectangle\n",
    "cnts = cv2.findContours(dilate, cv2.RETR_EXTERNAL, cv2.CHAIN_APPROX_SIMPLE)\n",
    "cnts = cnts[0] if len(cnts) == 2 else cnts[1]\n",
    "cnts = sorted(cnts, key=lambda x: cv2.boundingRect(x)[1])\n",
    "for c in cnts:\n",
    "    x,y,w,h = cv2.boundingRect(c)\n",
    "    if h < 20 and w > 250:\n",
    "        roi = base_image[0:y+h, 0:x+im_w]\n",
    "        cv2.rectangle(image, (x, y), (x + w, y + h), (36,255,12), 2)\n",
    "        \n",
    "cv2.imwrite(\"data/sample_mgh_final_main_data_output.png\", roi)"
   ]
  },
  {
   "cell_type": "markdown",
   "id": "98d353aa",
   "metadata": {},
   "source": [
    "# extracting some thin lines"
   ]
  },
  {
   "cell_type": "code",
   "execution_count": 9,
   "id": "35b034fb",
   "metadata": {},
   "outputs": [
    {
     "data": {
      "text/plain": [
       "True"
      ]
     },
     "execution_count": 9,
     "metadata": {},
     "output_type": "execute_result"
    }
   ],
   "source": [
    "import pytesseract\n",
    "import cv2\n",
    "\n",
    "# Load and preprocess the image\n",
    "image = cv2.imread('data/sample_mgh.jpg')\n",
    "im_h, im_w, im_d = image.shape\n",
    "base_image = image.copy()\n",
    "\n",
    "# Convert to grayscale, blur, and threshold (invert)\n",
    "gray = cv2.cvtColor(image, cv2.COLOR_BGR2GRAY)\n",
    "blur = cv2.GaussianBlur(gray, (7, 7), 0)\n",
    "thresh = cv2.threshold(blur, 0, 255, cv2.THRESH_BINARY_INV + cv2.THRESH_OTSU)[1]\n",
    "\n",
    "# Morphological operation to emphasize horizontal lines\n",
    "kernel = cv2.getStructuringElement(cv2.MORPH_RECT, (50, 1))  # Horizontal kernel\n",
    "dilate = cv2.dilate(thresh, kernel, iterations=1)\n",
    "\n",
    "# Find contours\n",
    "cnts = cv2.findContours(dilate, cv2.RETR_EXTERNAL, cv2.CHAIN_APPROX_SIMPLE)\n",
    "cnts = cnts[0] if len(cnts) == 2 else cnts[1]\n",
    "\n",
    "# Sort top to bottom\n",
    "cnts = sorted(cnts, key=lambda x: cv2.boundingRect(x)[1])\n",
    "\n",
    "# Loop through contours and draw boxes around thin horizontal lines\n",
    "for c in cnts:\n",
    "    x, y, w, h = cv2.boundingRect(c)\n",
    "    \n",
    "    # Filter for thin horizontal lines (low height, good width)\n",
    "    if h < 20 and w > 250:\n",
    "        roi = base_image[y:y+h, x:x+w]  # ✅ Fixed this line\n",
    "        cv2.rectangle(image, (x, y), (x + w, y + h), (36, 255, 12), 2)\n",
    "\n",
    "# Save the output image with all bounding boxes\n",
    "cv2.imwrite(\"data/sample_mgh_output_2.png\", image)\n"
   ]
  }
 ],
 "metadata": {
  "kernelspec": {
   "display_name": "Python 3",
   "language": "python",
   "name": "python3"
  },
  "language_info": {
   "codemirror_mode": {
    "name": "ipython",
    "version": 3
   },
   "file_extension": ".py",
   "mimetype": "text/x-python",
   "name": "python",
   "nbconvert_exporter": "python",
   "pygments_lexer": "ipython3",
   "version": "3.11.9"
  }
 },
 "nbformat": 4,
 "nbformat_minor": 5
}
